{
 "cells": [
  {
   "cell_type": "code",
   "execution_count": 1,
   "metadata": {},
   "outputs": [],
   "source": [
    "import rasterio\n",
    "from rasterio.plot import show, plotting_extent\n",
    "import numpy as np\n",
    "import matplotlib.pyplot as plt\n",
    "import geopandas\n",
    "import earthpy as et\n",
    "import earthpy.plot as ep"
   ]
  },
  {
   "cell_type": "code",
   "execution_count": null,
   "metadata": {},
   "outputs": [],
   "source": [
    "mosaic = rasterio.open('mosaic.tif')\n",
    "dtm = mosaic.read()\n",
    "dtm[dtm < 0] = np.nan\n",
    "mosaic_extent = plotting_extent(mosaic)\n",
    "print(mosiac_extent) \n",
    "print(mosaic.bounds)"
   ]
  },
  {
   "cell_type": "code",
   "execution_count": null,
   "metadata": {},
   "outputs": [],
   "source": [
    "pingos = gpd.read_file('clipped_pingo.shp')\n",
    "pingos_boundary = pingos.to_crs(mosaic.crs)"
   ]
  },
  {
   "cell_type": "code",
   "execution_count": null,
   "metadata": {},
   "outputs": [],
   "source": [
    "fig,ax = plt.subplots()\n",
    "ep.plot_bands(\n",
    "    dtm,\n",
    "    cmap='gist_earth',\n",
    "    figsize = (30,20),\n",
    "    ax = ax,\n",
    "    extent = mosaic_extent\n",
    ")\n",
    "pingos_boundary.plot(ax=ax)\n",
    "plt.show()"
   ]
  }
 ],
 "metadata": {
  "kernelspec": {
   "display_name": "pingoEnv",
   "language": "python",
   "name": "pingoenv"
  },
  "language_info": {
   "codemirror_mode": {
    "name": "ipython",
    "version": 3
   },
   "file_extension": ".py",
   "mimetype": "text/x-python",
   "name": "python",
   "nbconvert_exporter": "python",
   "pygments_lexer": "ipython3",
   "version": "3.8.8"
  }
 },
 "nbformat": 4,
 "nbformat_minor": 4
}
