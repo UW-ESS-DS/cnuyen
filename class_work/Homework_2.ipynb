{
 "cells": [
  {
   "cell_type": "markdown",
   "metadata": {},
   "source": [
    "# Homework 2"
   ]
  },
  {
   "cell_type": "markdown",
   "metadata": {},
   "source": [
    "### Checking for palindromes in a list..."
   ]
  },
  {
   "cell_type": "code",
   "execution_count": 1,
   "metadata": {},
   "outputs": [],
   "source": [
    "import numpy as np\n",
    "import matplotlib.pyplot as plt"
   ]
  },
  {
   "cell_type": "code",
   "execution_count": 4,
   "metadata": {},
   "outputs": [],
   "source": [
    "words = ['racecar', 'peach', 'kayak', 'noon', 'mathematics', 'rotator']"
   ]
  },
  {
   "cell_type": "code",
   "execution_count": 16,
   "metadata": {},
   "outputs": [],
   "source": [
    "def palindrome_check(word):\n",
    "    \n",
    "    boolean = True\n",
    "    while len(word) > 1:\n",
    "        if word[0] != word[-1]:\n",
    "            boolean = False\n",
    "            break\n",
    "        else:\n",
    "            word = word[1:-1]\n",
    "    \n",
    "    return boolean"
   ]
  },
  {
   "cell_type": "code",
   "execution_count": 25,
   "metadata": {},
   "outputs": [],
   "source": [
    "palindrome = []\n",
    "not_palindrome = []\n",
    "\n",
    "for word in words:\n",
    "    \n",
    "    if palindrome_check(word):\n",
    "        palindrome.append(word)\n",
    "    else:\n",
    "        not_palindrome.append(word)"
   ]
  },
  {
   "cell_type": "code",
   "execution_count": 36,
   "metadata": {},
   "outputs": [
    {
     "name": "stdout",
     "output_type": "stream",
     "text": [
      "These words are palindromes: 'racecar', 'kayak', 'noon', 'rotator'\n",
      "These words are not palindromes: 'peach', 'mathematics'\n"
     ]
    }
   ],
   "source": [
    "print(\"These words are palindromes: \" + str(palindrome)[1:-1])\n",
    "print(\"These words are not palindromes: \" + str(not_palindrome)[1:-1])\n"
   ]
  },
  {
   "cell_type": "markdown",
   "metadata": {},
   "source": [
    "### Graph smiley face"
   ]
  },
  {
   "cell_type": "code",
   "execution_count": 74,
   "metadata": {},
   "outputs": [],
   "source": [
    "x = np.linspace(1.5,2*np.pi -1.5 ,1000)"
   ]
  },
  {
   "cell_type": "code",
   "execution_count": 75,
   "metadata": {},
   "outputs": [],
   "source": [
    "y1 = np.cos(x)"
   ]
  },
  {
   "cell_type": "code",
   "execution_count": 103,
   "metadata": {},
   "outputs": [
    {
     "data": {
      "text/plain": [
       "Text(5, 3, 'hello')"
      ]
     },
     "execution_count": 103,
     "metadata": {},
     "output_type": "execute_result"
    },
    {
     "data": {
      "image/png": "[encoded data removed]",
      "text/plain": [
       "<Figure size 432x288 with 1 Axes>"
      ]
     },
     "metadata": {
      "needs_background": "light"
     },
     "output_type": "display_data"
    }
   ],
   "source": [
    "fig, ax = plt.subplots()\n",
    "\n",
    "ax.plot(x,y1)\n",
    "ax.plot([2,4],[1.5,1.5],'co')\n",
    "ax.plot(4.5,2.5,'ks',markerfacecolor = 'none')\n",
    "ax.plot(4.7,2.7,'ks', markersize = 10, markerfacecolor = 'none')\n",
    "ax.plot([4.9,4.9,5.4,5.4,4.9],[2.8,3.3,3.3,2.8, 2.8],'k', linewidth = 1)\n",
    "ax.text(5,3,'hello')"
   ]
  },
  {
   "cell_type": "code",
   "execution_count": null,
   "metadata": {},
   "outputs": [],
   "source": []
  }
 ],
 "metadata": {
  "kernelspec": {
   "display_name": "Python 3",
   "language": "python",
   "name": "python3"
  },
  "language_info": {
   "codemirror_mode": {
    "name": "ipython",
    "version": 3
   },
   "file_extension": ".py",
   "mimetype": "text/x-python",
   "name": "python",
   "nbconvert_exporter": "python",
   "pygments_lexer": "ipython3",
   "version": "3.8.5"
  }
 },
 "nbformat": 4,
 "nbformat_minor": 4
}
