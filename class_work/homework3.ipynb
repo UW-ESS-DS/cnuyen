{
 "cells": [
  {
   "cell_type": "markdown",
   "metadata": {},
   "source": [
    "# Homework 3"
   ]
  },
  {
   "cell_type": "markdown",
   "metadata": {},
   "source": [
    "I have a catalog of repeating earthquakes, and I want to download seismic waveforms corresponding to these repeating earthquakes. However, when I look at the list of stations available in the seismic network, there are more than 6000. I do not want to download data from 6000 stations, so I want to filter only the seismic stations that are relevant for what I want to do with my waveforms."
   ]
  },
  {
   "cell_type": "code",
   "execution_count": 1,
   "metadata": {},
   "outputs": [],
   "source": [
    "# Address of the website to download data\n",
    "url = 'http://ncedc.org/ftp/pub/doc/NC.info/NC.channel.summary.day'"
   ]
  },
  {
   "cell_type": "code",
   "execution_count": 2,
   "metadata": {},
   "outputs": [],
   "source": [
    "# Useful Python modules\n",
    "import numpy as np\n",
    "import pandas as pd\n",
    "import io\n",
    "import pickle\n",
    "import requests\n",
    "from datetime import datetime, timedelta\n",
    "from math import cos, sin, pi, sqrt"
   ]
  },
  {
   "cell_type": "code",
   "execution_count": 3,
   "metadata": {},
   "outputs": [],
   "source": [
    "# Import the data from the website into a Python dataframe\n",
    "s = requests.get(url).content\n",
    "data = pd.read_csv(io.StringIO(s.decode('utf-8')), header=None, skiprows=2, sep='\\s+', usecols=list(range(0, 13)))\n",
    "data.columns = ['station', 'network', 'channel', 'location', 'rate', 'start_time', 'end_time', 'latitude', 'longitude', 'elevation', 'depth', 'dip', 'azimuth']"
   ]
  },
  {
   "cell_type": "code",
   "execution_count": 4,
   "metadata": {},
   "outputs": [],
   "source": [
    "# Transform columns start_time and end_time into datetime format\n",
    "startdate = pd.to_datetime(data['start_time'], format='%Y/%m/%d,%H:%M:%S')\n",
    "data['start_time'] = startdate\n",
    "# Avoid 'OutOfBoundsDatetime' error with year 3000\n",
    "enddate = data['end_time'].str.replace('3000', '2025')\n",
    "enddate = pd.to_datetime(enddate, format='%Y/%m/%d,%H:%M:%S')\n",
    "data['end_time'] = enddate"
   ]
  },
  {
   "cell_type": "markdown",
   "metadata": {},
   "source": [
    "After discussing with my adviser, we decided than only the following channels are relevant for the work we want to do:"
   ]
  },
  {
   "cell_type": "code",
   "execution_count": 5,
   "metadata": {},
   "outputs": [],
   "source": [
    "channels = ['BHE', 'BHN', 'BHZ', 'BH1', 'BH2', \\\n",
    "            'EHE', 'EHN', 'EHZ', 'EH1', 'EH2', \\\n",
    "            'HHE', 'HHN', 'HHZ', 'HH1', 'HH2', \\\n",
    "            'SHE', 'SHN', 'SHZ', 'SH1', 'SH2']"
   ]
  },
  {
   "cell_type": "markdown",
   "metadata": {},
   "source": [
    "## First question\n",
    "\n",
    "Filter the dataset to keep only the rows with the channels as defined above."
   ]
  },
  {
   "cell_type": "code",
   "execution_count": 6,
   "metadata": {},
   "outputs": [],
   "source": [
    "data = data.loc[data['channel'].isin(channels)]"
   ]
  },
  {
   "cell_type": "markdown",
   "metadata": {},
   "source": [
    "My earthquake catalog starts on 2007/07/01 and ends on 2009/07/01. I am only interested in stations that started recording before 2007/07/01 and ended recording after 2009/07/01."
   ]
  },
  {
   "cell_type": "markdown",
   "metadata": {},
   "source": [
    "## Second question\n",
    "\n",
    "Filter the dataset to keep only stations that started recording before 2007/07/01 and ended recording after 2009/07/01."
   ]
  },
  {
   "cell_type": "code",
   "execution_count": 16,
   "metadata": {},
   "outputs": [],
   "source": [
    "startDate = '2007/07/01'\n",
    "endDate = '2009/07/01'\n",
    "\n",
    "timeSpan = data.groupby(['station']).agg({'start_time':lambda x: min(x), 'end_time':lambda x: max(x)})\n",
    "mask = (timeSpan.start_time < startDate) & (timeSpan.end_time > endDate)\n",
    "timeSpan = timeSpan[mask]\n",
    "data = data.loc[data.station.isin(timeSpan.index.tolist())]"
   ]
  },
  {
   "cell_type": "markdown",
   "metadata": {},
   "source": [
    "I only want to keep the stations that are located less than 100 km from my repeating earthquakes. For stations farther away, the signal-to-noise ratio would be too low.\n",
    "\n",
    "The earthquakes are located at latitude = 40.09 and longitude = -122.87. Here is a function to compute the distance from the station to the earthquakes, and to add a column distance to the dataset"
   ]
  },
  {
   "cell_type": "code",
   "execution_count": 17,
   "metadata": {},
   "outputs": [],
   "source": [
    "a = 6378.136\n",
    "e = 0.006694470\n",
    "lat0 = 40.09000\n",
    "lon0 = -122.87000\n",
    "dx = (pi / 180.0) * a * cos(lat0 * pi / 180.0) / sqrt(1.0 - e * e * sin(lat0 * pi / 180.0) * sin(lat0 * pi / 180.0))\n",
    "dy = (3.6 * pi / 648.0) * a * (1.0 - e * e) / ((1.0 - e * e * sin(lat0 * pi / 180.0) * sin(lat0 * pi / 180.0)) ** 1.5)\n",
    "x = dx * (data['longitude'] - lon0)\n",
    "y = dy * (data['latitude'] - lat0)\n",
    "data['distance'] = np.sqrt(np.power(x, 2.0) + np.power(y, 2.0))"
   ]
  },
  {
   "cell_type": "markdown",
   "metadata": {},
   "source": [
    "## Third question\n",
    "\n",
    "Filter the dataset to keep only stations that are less than 100 km from the earthquakes."
   ]
  },
  {
   "cell_type": "code",
   "execution_count": 18,
   "metadata": {},
   "outputs": [],
   "source": [
    "data = data.loc[data['distance'] < 100]"
   ]
  },
  {
   "cell_type": "markdown",
   "metadata": {},
   "source": [
    "Finally, I want to group the result such that the final result looks like:\n",
    "\n",
    "|station|network|location|latitude|longitude |elevation|depth|distance |channel    |start_time         |end_time           |\n",
    "|-------|-------|--------|--------|----------|---------|-----|---------|-----------|-------------------|-------------------|\n",
    "|KBS \t|NC \t|-- \t |39.91719|-123.59561|1120.0   |0.0  |64.720762|SHZ        |2002-10-17 00:00:00|2011-10-27 21:25:00|\n",
    "|KCPB \t|NC \t|-- \t |39.68631|-123.58242|1261.0   |0.0  |75.502041|HHZ,HHN,HHE|2006-10-18 00:08:00|2010-11-01 22:00:00|"
   ]
  },
  {
   "cell_type": "markdown",
   "metadata": {},
   "source": [
    "I want all different channels to be grouped together, instead of having one row per channel. I also want to get the start_time end end_time for each station, instead of having it for each channel."
   ]
  },
  {
   "cell_type": "markdown",
   "metadata": {},
   "source": [
    "You can use the following function to group the channels together:"
   ]
  },
  {
   "cell_type": "code",
   "execution_count": 19,
   "metadata": {},
   "outputs": [],
   "source": [
    "def f(x):\n",
    "    \"\"\"\n",
    "    Concatenate channels\n",
    "    \"\"\"\n",
    "    result = '%s' % ','.join(x)\n",
    "    result = list(set(result.split(',')))\n",
    "    result = '%s' % ','.join(result)\n",
    "    return result"
   ]
  },
  {
   "cell_type": "markdown",
   "metadata": {},
   "source": [
    "## Fourth question\n",
    "\n",
    "Use the pandas function agg to group the channels of a given station together, and compute the least recent start_time and the most recent end_time for each station."
   ]
  },
  {
   "cell_type": "code",
   "execution_count": 25,
   "metadata": {},
   "outputs": [
    {
     "data": {
      "text/html": [
       "<div>\n",
       "<style scoped>\n",
       "    .dataframe tbody tr th:only-of-type {\n",
       "        vertical-align: middle;\n",
       "    }\n",
       "\n",
       "    .dataframe tbody tr th {\n",
       "        vertical-align: top;\n",
       "    }\n",
       "\n",
       "    .dataframe thead th {\n",
       "        text-align: right;\n",
       "    }\n",
       "</style>\n",
       "<table border=\"1\" class=\"dataframe\">\n",
       "  <thead>\n",
       "    <tr style=\"text-align: right;\">\n",
       "      <th></th>\n",
       "      <th>station</th>\n",
       "      <th>channel</th>\n",
       "      <th>start_time</th>\n",
       "      <th>end_time</th>\n",
       "    </tr>\n",
       "  </thead>\n",
       "  <tbody>\n",
       "    <tr>\n",
       "      <th>0</th>\n",
       "      <td>GBB</td>\n",
       "      <td>SHZ,EHZ</td>\n",
       "      <td>2000-12-06 18:38:00</td>\n",
       "      <td>2025-01-01 00:00:00</td>\n",
       "    </tr>\n",
       "    <tr>\n",
       "      <th>1</th>\n",
       "      <td>GCK</td>\n",
       "      <td>SHZ,EHZ</td>\n",
       "      <td>2000-06-06 21:58:00</td>\n",
       "      <td>2025-01-01 00:00:00</td>\n",
       "    </tr>\n",
       "    <tr>\n",
       "      <th>2</th>\n",
       "      <td>GFC</td>\n",
       "      <td>SHZ,EHZ</td>\n",
       "      <td>2001-04-03 23:25:00</td>\n",
       "      <td>2025-01-01 00:00:00</td>\n",
       "    </tr>\n",
       "    <tr>\n",
       "      <th>3</th>\n",
       "      <td>GHM</td>\n",
       "      <td>SHZ,EHZ</td>\n",
       "      <td>1984-01-01 00:00:00</td>\n",
       "      <td>2025-01-01 00:00:00</td>\n",
       "    </tr>\n",
       "    <tr>\n",
       "      <th>4</th>\n",
       "      <td>GRO</td>\n",
       "      <td>SHZ,EHZ</td>\n",
       "      <td>1990-12-13 23:30:00</td>\n",
       "      <td>2025-01-01 00:00:00</td>\n",
       "    </tr>\n",
       "    <tr>\n",
       "      <th>5</th>\n",
       "      <td>GTC</td>\n",
       "      <td>SHZ,EHZ</td>\n",
       "      <td>1996-08-01 22:08:00</td>\n",
       "      <td>2025-01-01 00:00:00</td>\n",
       "    </tr>\n",
       "    <tr>\n",
       "      <th>6</th>\n",
       "      <td>GTS</td>\n",
       "      <td>SHZ,EHZ</td>\n",
       "      <td>1984-01-01 00:00:00</td>\n",
       "      <td>2020-10-19 16:57:00</td>\n",
       "    </tr>\n",
       "    <tr>\n",
       "      <th>7</th>\n",
       "      <td>GVV</td>\n",
       "      <td>SHZ,EHZ</td>\n",
       "      <td>2002-04-28 00:00:00</td>\n",
       "      <td>2021-03-09 00:11:00</td>\n",
       "    </tr>\n",
       "    <tr>\n",
       "      <th>8</th>\n",
       "      <td>KBN</td>\n",
       "      <td>SHZ,EHZ</td>\n",
       "      <td>1984-01-01 00:00:00</td>\n",
       "      <td>2025-01-01 00:00:00</td>\n",
       "    </tr>\n",
       "    <tr>\n",
       "      <th>9</th>\n",
       "      <td>KBS</td>\n",
       "      <td>SHZ,EHZ</td>\n",
       "      <td>1984-01-01 00:00:00</td>\n",
       "      <td>2025-01-01 00:00:00</td>\n",
       "    </tr>\n",
       "    <tr>\n",
       "      <th>10</th>\n",
       "      <td>KCPB</td>\n",
       "      <td>HHZ,BHN,HHE,HHN,BHZ,BHE</td>\n",
       "      <td>1999-08-03 00:00:00</td>\n",
       "      <td>2025-01-01 00:00:00</td>\n",
       "    </tr>\n",
       "    <tr>\n",
       "      <th>11</th>\n",
       "      <td>KCR</td>\n",
       "      <td>SHZ,EHZ</td>\n",
       "      <td>1984-01-01 00:00:00</td>\n",
       "      <td>2025-01-01 00:00:00</td>\n",
       "    </tr>\n",
       "    <tr>\n",
       "      <th>12</th>\n",
       "      <td>KCS</td>\n",
       "      <td>SHZ,EHZ</td>\n",
       "      <td>1992-08-13 23:36:00</td>\n",
       "      <td>2020-11-05 21:35:00</td>\n",
       "    </tr>\n",
       "    <tr>\n",
       "      <th>13</th>\n",
       "      <td>KFP</td>\n",
       "      <td>SHZ,EHZ</td>\n",
       "      <td>1984-01-01 00:00:00</td>\n",
       "      <td>2025-01-01 00:00:00</td>\n",
       "    </tr>\n",
       "    <tr>\n",
       "      <th>14</th>\n",
       "      <td>KHBB</td>\n",
       "      <td>HHZ,BHN,HHE,HHN,BHZ,BHE</td>\n",
       "      <td>2003-09-11 23:30:00</td>\n",
       "      <td>2025-01-01 00:00:00</td>\n",
       "    </tr>\n",
       "    <tr>\n",
       "      <th>15</th>\n",
       "      <td>KIP</td>\n",
       "      <td>SHZ,EHZ</td>\n",
       "      <td>1984-01-01 00:00:00</td>\n",
       "      <td>2025-01-01 00:00:00</td>\n",
       "    </tr>\n",
       "    <tr>\n",
       "      <th>16</th>\n",
       "      <td>KKP</td>\n",
       "      <td>SHZ,EHZ</td>\n",
       "      <td>1984-01-01 00:00:00</td>\n",
       "      <td>2020-11-05 21:35:00</td>\n",
       "    </tr>\n",
       "    <tr>\n",
       "      <th>17</th>\n",
       "      <td>KMR</td>\n",
       "      <td>HHZ,BHN,HHE,HHN,BHZ,BHE</td>\n",
       "      <td>2003-07-25 16:16:00</td>\n",
       "      <td>2025-01-01 00:00:00</td>\n",
       "    </tr>\n",
       "    <tr>\n",
       "      <th>18</th>\n",
       "      <td>KPP</td>\n",
       "      <td>SHZ,EHZ</td>\n",
       "      <td>1984-01-01 00:00:00</td>\n",
       "      <td>2020-11-05 21:35:00</td>\n",
       "    </tr>\n",
       "    <tr>\n",
       "      <th>19</th>\n",
       "      <td>KRK</td>\n",
       "      <td>SHZ,EHZ</td>\n",
       "      <td>1984-01-01 00:00:00</td>\n",
       "      <td>2025-01-01 00:00:00</td>\n",
       "    </tr>\n",
       "    <tr>\n",
       "      <th>20</th>\n",
       "      <td>LBP</td>\n",
       "      <td>SHZ,EHZ</td>\n",
       "      <td>1984-01-01 00:00:00</td>\n",
       "      <td>2025-01-01 00:00:00</td>\n",
       "    </tr>\n",
       "    <tr>\n",
       "      <th>21</th>\n",
       "      <td>LDB</td>\n",
       "      <td>SHZ,EHZ</td>\n",
       "      <td>1984-01-01 00:00:00</td>\n",
       "      <td>2025-01-01 00:00:00</td>\n",
       "    </tr>\n",
       "    <tr>\n",
       "      <th>22</th>\n",
       "      <td>LGP</td>\n",
       "      <td>SHZ,EHZ</td>\n",
       "      <td>1984-01-01 00:00:00</td>\n",
       "      <td>2025-01-01 00:00:00</td>\n",
       "    </tr>\n",
       "    <tr>\n",
       "      <th>23</th>\n",
       "      <td>LPG</td>\n",
       "      <td>SHZ,EHZ</td>\n",
       "      <td>1991-01-30 00:00:00</td>\n",
       "      <td>2025-01-01 00:00:00</td>\n",
       "    </tr>\n",
       "    <tr>\n",
       "      <th>24</th>\n",
       "      <td>LRB</td>\n",
       "      <td>SHZ,EHZ</td>\n",
       "      <td>1990-12-13 22:00:00</td>\n",
       "      <td>2025-01-01 00:00:00</td>\n",
       "    </tr>\n",
       "    <tr>\n",
       "      <th>25</th>\n",
       "      <td>LSF</td>\n",
       "      <td>SHZ,EHZ</td>\n",
       "      <td>1989-04-19 00:00:00</td>\n",
       "      <td>2025-01-01 00:00:00</td>\n",
       "    </tr>\n",
       "    <tr>\n",
       "      <th>26</th>\n",
       "      <td>LTC</td>\n",
       "      <td>SHZ,EHN,EHZ</td>\n",
       "      <td>1984-01-01 00:00:00</td>\n",
       "      <td>2025-01-01 00:00:00</td>\n",
       "    </tr>\n",
       "    <tr>\n",
       "      <th>27</th>\n",
       "      <td>LVR</td>\n",
       "      <td>SHZ,EHZ</td>\n",
       "      <td>1991-01-31 22:45:00</td>\n",
       "      <td>2025-01-01 00:00:00</td>\n",
       "    </tr>\n",
       "    <tr>\n",
       "      <th>28</th>\n",
       "      <td>LWH</td>\n",
       "      <td>SHZ,EHZ</td>\n",
       "      <td>1984-01-01 00:00:00</td>\n",
       "      <td>2020-03-17 20:50:00</td>\n",
       "    </tr>\n",
       "    <tr>\n",
       "      <th>29</th>\n",
       "      <td>OCR</td>\n",
       "      <td>SHZ,EHZ</td>\n",
       "      <td>1992-01-22 23:00:00</td>\n",
       "      <td>2025-01-01 00:00:00</td>\n",
       "    </tr>\n",
       "  </tbody>\n",
       "</table>\n",
       "</div>"
      ],
      "text/plain": [
       "   station                  channel          start_time            end_time\n",
       "0      GBB                  SHZ,EHZ 2000-12-06 18:38:00 2025-01-01 00:00:00\n",
       "1      GCK                  SHZ,EHZ 2000-06-06 21:58:00 2025-01-01 00:00:00\n",
       "2      GFC                  SHZ,EHZ 2001-04-03 23:25:00 2025-01-01 00:00:00\n",
       "3      GHM                  SHZ,EHZ 1984-01-01 00:00:00 2025-01-01 00:00:00\n",
       "4      GRO                  SHZ,EHZ 1990-12-13 23:30:00 2025-01-01 00:00:00\n",
       "5      GTC                  SHZ,EHZ 1996-08-01 22:08:00 2025-01-01 00:00:00\n",
       "6      GTS                  SHZ,EHZ 1984-01-01 00:00:00 2020-10-19 16:57:00\n",
       "7      GVV                  SHZ,EHZ 2002-04-28 00:00:00 2021-03-09 00:11:00\n",
       "8      KBN                  SHZ,EHZ 1984-01-01 00:00:00 2025-01-01 00:00:00\n",
       "9      KBS                  SHZ,EHZ 1984-01-01 00:00:00 2025-01-01 00:00:00\n",
       "10    KCPB  HHZ,BHN,HHE,HHN,BHZ,BHE 1999-08-03 00:00:00 2025-01-01 00:00:00\n",
       "11     KCR                  SHZ,EHZ 1984-01-01 00:00:00 2025-01-01 00:00:00\n",
       "12     KCS                  SHZ,EHZ 1992-08-13 23:36:00 2020-11-05 21:35:00\n",
       "13     KFP                  SHZ,EHZ 1984-01-01 00:00:00 2025-01-01 00:00:00\n",
       "14    KHBB  HHZ,BHN,HHE,HHN,BHZ,BHE 2003-09-11 23:30:00 2025-01-01 00:00:00\n",
       "15     KIP                  SHZ,EHZ 1984-01-01 00:00:00 2025-01-01 00:00:00\n",
       "16     KKP                  SHZ,EHZ 1984-01-01 00:00:00 2020-11-05 21:35:00\n",
       "17     KMR  HHZ,BHN,HHE,HHN,BHZ,BHE 2003-07-25 16:16:00 2025-01-01 00:00:00\n",
       "18     KPP                  SHZ,EHZ 1984-01-01 00:00:00 2020-11-05 21:35:00\n",
       "19     KRK                  SHZ,EHZ 1984-01-01 00:00:00 2025-01-01 00:00:00\n",
       "20     LBP                  SHZ,EHZ 1984-01-01 00:00:00 2025-01-01 00:00:00\n",
       "21     LDB                  SHZ,EHZ 1984-01-01 00:00:00 2025-01-01 00:00:00\n",
       "22     LGP                  SHZ,EHZ 1984-01-01 00:00:00 2025-01-01 00:00:00\n",
       "23     LPG                  SHZ,EHZ 1991-01-30 00:00:00 2025-01-01 00:00:00\n",
       "24     LRB                  SHZ,EHZ 1990-12-13 22:00:00 2025-01-01 00:00:00\n",
       "25     LSF                  SHZ,EHZ 1989-04-19 00:00:00 2025-01-01 00:00:00\n",
       "26     LTC              SHZ,EHN,EHZ 1984-01-01 00:00:00 2025-01-01 00:00:00\n",
       "27     LVR                  SHZ,EHZ 1991-01-31 22:45:00 2025-01-01 00:00:00\n",
       "28     LWH                  SHZ,EHZ 1984-01-01 00:00:00 2020-03-17 20:50:00\n",
       "29     OCR                  SHZ,EHZ 1992-01-22 23:00:00 2025-01-01 00:00:00"
      ]
     },
     "execution_count": 25,
     "metadata": {},
     "output_type": "execute_result"
    }
   ],
   "source": [
    "final = data.groupby(['station']).agg({'channel': f,'start_time':lambda x: min(x), 'end_time':lambda x: max(x)})\n",
    "final.reset_index()"
   ]
  },
  {
   "cell_type": "markdown",
   "metadata": {},
   "source": [
    "## Fifth question\n",
    "\n",
    "How many stations are left in the dataset?"
   ]
  },
  {
   "cell_type": "markdown",
   "metadata": {},
   "source": [
    "***There are 29 station left.***"
   ]
  }
 ],
 "metadata": {
  "kernelspec": {
   "display_name": "Python 3",
   "language": "python",
   "name": "python3"
  },
  "language_info": {
   "codemirror_mode": {
    "name": "ipython",
    "version": 3
   },
   "file_extension": ".py",
   "mimetype": "text/x-python",
   "name": "python",
   "nbconvert_exporter": "python",
   "pygments_lexer": "ipython3",
   "version": "3.8.5"
  }
 },
 "nbformat": 4,
 "nbformat_minor": 5
}
